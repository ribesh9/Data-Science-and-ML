{
 "cells": [
  {
   "cell_type": "code",
   "execution_count": 1,
   "id": "f8be32dc-e569-4485-973d-45efa47ab1bc",
   "metadata": {},
   "outputs": [
    {
     "name": "stdout",
     "output_type": "stream",
     "text": [
      "['Bohemian Rhapsody', 'The doors', 'John Wick']\n"
     ]
    }
   ],
   "source": [
    "#Question number1\n",
    "movie = ['Bohemian Rhapsody','The doors','John Wick']\n",
    "print(movie)"
   ]
  },
  {
   "cell_type": "code",
   "execution_count": 3,
   "id": "b1fd0bde-3441-40e5-9f18-713d4085da82",
   "metadata": {},
   "outputs": [
    {
     "name": "stdout",
     "output_type": "stream",
     "text": [
      "['Bohemian Rhapsody', 'The doors', 'John Wick', 'The Matrix']\n"
     ]
    }
   ],
   "source": [
    "#Now appending the movie in the list \n",
    "movie.append('The Matrix')\n",
    "print(movie)"
   ]
  },
  {
   "cell_type": "code",
   "execution_count": 9,
   "id": "83f0a87c-3cdb-4a0a-95fe-c6c6ffc816e8",
   "metadata": {},
   "outputs": [
    {
     "name": "stdout",
     "output_type": "stream",
     "text": [
      "[1, 2, 3, 4, 5, 6, 7, 8, 9, 10]\n"
     ]
    }
   ],
   "source": [
    "#Question number2\n",
    "number = [1,2,3,4,5,6,7,8,9,10]\n",
    "print(number)"
   ]
  },
  {
   "cell_type": "code",
   "execution_count": 11,
   "id": "cbadf24e-a605-4ca9-9493-794329abeee8",
   "metadata": {},
   "outputs": [
    {
     "name": "stdout",
     "output_type": "stream",
     "text": [
      "55\n"
     ]
    }
   ],
   "source": [
    "result = sum(number)\n",
    "print (result)"
   ]
  },
  {
   "cell_type": "code",
   "execution_count": 13,
   "id": "bf1f88a9-972d-486b-bd86-3b1b45e041da",
   "metadata": {},
   "outputs": [
    {
     "name": "stdout",
     "output_type": "stream",
     "text": [
      "['Ribesh', 1, 2, 3.4, 2.22, 'Shrestha']\n"
     ]
    }
   ],
   "source": [
    "#Question number 3\n",
    "mixed_list = ['Ribesh',1,2,3.4,2.22,'Shrestha']\n",
    "print(mixed_list)"
   ]
  },
  {
   "cell_type": "code",
   "execution_count": 15,
   "id": "b1e62f3e-07c6-4c74-8127-ba168a859b73",
   "metadata": {},
   "outputs": [
    {
     "name": "stdout",
     "output_type": "stream",
     "text": [
      "[1, 2, 3.4, 2.22, 'Shrestha']\n"
     ]
    }
   ],
   "source": [
    "mixed_list.pop(0)\n",
    "print(mixed_list)"
   ]
  },
  {
   "cell_type": "code",
   "execution_count": 17,
   "id": "66d57e67-d923-43a2-988e-4e56be4094fa",
   "metadata": {},
   "outputs": [
    {
     "name": "stdout",
     "output_type": "stream",
     "text": [
      "['Sunday', 'Monday', 'Tuesday', 'Wednesday', 'Thrusday', 'Friday', 'Saturday']\n"
     ]
    }
   ],
   "source": [
    "#Question number 4\n",
    "weekdays = ['Sunday','Monday','Tuesday','Wednesday','Thrusday','Friday','Saturday']\n",
    "print(weekdays)"
   ]
  },
  {
   "cell_type": "code",
   "execution_count": 27,
   "id": "8a37267b-bdd3-45bf-a6ef-6582e9fa4e2f",
   "metadata": {},
   "outputs": [
    {
     "name": "stdout",
     "output_type": "stream",
     "text": [
      "Tuesday\n"
     ]
    }
   ],
   "source": [
    "print (weekdays[2])"
   ]
  },
  {
   "cell_type": "code",
   "execution_count": 29,
   "id": "d25eab6b-93a3-439a-9d8b-f473428215ad",
   "metadata": {},
   "outputs": [
    {
     "name": "stdout",
     "output_type": "stream",
     "text": [
      "('Blue', 'Green', 'Red', 'Black', 'Yellow')\n"
     ]
    }
   ],
   "source": [
    "#Question number 5\n",
    "favorite_colors = (\"Blue\", \"Green\", \"Red\", \"Black\", \"Yellow\")\n",
    "print(favorite_colors)"
   ]
  },
  {
   "cell_type": "code",
   "execution_count": 39,
   "id": "4b1d9afc-8a69-4307-b6d8-6c9880ae298f",
   "metadata": {},
   "outputs": [
    {
     "name": "stdout",
     "output_type": "stream",
     "text": [
      "True\n"
     ]
    }
   ],
   "source": [
    "colorCheck = \"Green\" in favorite_colors\n",
    "print(colorCheck)"
   ]
  },
  {
   "cell_type": "code",
   "execution_count": 43,
   "id": "1c1fbb71-b748-4cfc-a86b-f3e47d52fda9",
   "metadata": {},
   "outputs": [
    {
     "name": "stdout",
     "output_type": "stream",
     "text": [
      "{'title': '48 laws of power', 'author': 'Robert Greene', 'year': '2024'}\n"
     ]
    }
   ],
   "source": [
    "#Question number 6\n",
    "bookInfo = {\"title\":\"48 laws of power\",\"author\":\"Robert Greene\",\"year\":\"2024\"}\n",
    "print (bookInfo)"
   ]
  },
  {
   "cell_type": "code",
   "execution_count": 45,
   "id": "f3961640-ac5c-47e2-959d-5e5050ce15ed",
   "metadata": {},
   "outputs": [],
   "source": [
    "bookInfo['year']='1980'"
   ]
  },
  {
   "cell_type": "code",
   "execution_count": 47,
   "id": "dfe3550e-bbc4-40ef-bc91-399dbc9e58fc",
   "metadata": {},
   "outputs": [
    {
     "name": "stdout",
     "output_type": "stream",
     "text": [
      "{'title': '48 laws of power', 'author': 'Robert Greene', 'year': '1980'}\n"
     ]
    }
   ],
   "source": [
    "print (bookInfo)"
   ]
  },
  {
   "cell_type": "code",
   "execution_count": 49,
   "id": "a7d8eb6f-8df1-4ea6-a515-f26f186e25b0",
   "metadata": {},
   "outputs": [
    {
     "name": "stdout",
     "output_type": "stream",
     "text": [
      "{'Apple': 'Red', 'Banana': 'Yellow', 'Grapes': 'Purple', 'Orange': 'Orange', 'Lemon': 'Yellow'}\n"
     ]
    }
   ],
   "source": [
    "#Question number 7\n",
    "fruit_colors = {    \"Apple\": \"Red\",\"Banana\": \"Yellow\",\"Grapes\": \"Purple\",\n",
    "                \"Orange\": \"Orange\",\"Lemon\": \"Yellow\"}\n",
    "print(fruit_colors)"
   ]
  },
  {
   "cell_type": "code",
   "execution_count": 51,
   "id": "085272a9-c038-4cdb-8016-64907aaa2d4a",
   "metadata": {},
   "outputs": [
    {
     "name": "stdout",
     "output_type": "stream",
     "text": [
      "{'Apple': 'Red', 'Banana': 'Yellow', 'Grapes': 'Purple', 'Orange': 'Orange', 'Lemon': 'Yellow', 'Kiwi': 'Green'}\n"
     ]
    }
   ],
   "source": [
    "fruit_colors[\"Kiwi\"] = \"Green\"\n",
    "print(fruit_colors)"
   ]
  },
  {
   "cell_type": "code",
   "execution_count": 65,
   "id": "17075a4c-f992-45d2-bdc5-1ab6f5216288",
   "metadata": {},
   "outputs": [
    {
     "name": "stdout",
     "output_type": "stream",
     "text": [
      "{'New York': 8419600, 'Los Angeles': 3980400, 'Chicago': 2716000, 'Houston': 2328000, 'Phoenix': 1690000}\n"
     ]
    }
   ],
   "source": [
    "#Question number 8\n",
    "city_population = {\"New York\": 8419600,\"Los Angeles\": 3980400,\"Chicago\": 2716000,\n",
    "                   \"Houston\": 2328000,\"Phoenix\": 1690000}\n",
    "print(city_population)"
   ]
  },
  {
   "cell_type": "code",
   "execution_count": 67,
   "id": "154299c0-3778-485e-8ed5-be6b09c26926",
   "metadata": {},
   "outputs": [
    {
     "name": "stdout",
     "output_type": "stream",
     "text": [
      "{'New York': 8419600, 'Los Angeles': 3980400, 'Houston': 2328000, 'Phoenix': 1690000}\n"
     ]
    }
   ],
   "source": [
    "city_population.pop('Chicago')\n",
    "print(city_population)"
   ]
  },
  {
   "cell_type": "code",
   "execution_count": 63,
   "id": "a11803cc-d29b-4be4-849c-47c3aa8c79bf",
   "metadata": {},
   "outputs": [
    {
     "name": "stdout",
     "output_type": "stream",
     "text": [
      "Help on dict object:\n",
      "\n",
      "class dict(object)\n",
      " |  dict() -> new empty dictionary\n",
      " |  dict(mapping) -> new dictionary initialized from a mapping object's\n",
      " |      (key, value) pairs\n",
      " |  dict(iterable) -> new dictionary initialized as if via:\n",
      " |      d = {}\n",
      " |      for k, v in iterable:\n",
      " |          d[k] = v\n",
      " |  dict(**kwargs) -> new dictionary initialized with the name=value pairs\n",
      " |      in the keyword argument list.  For example:  dict(one=1, two=2)\n",
      " |  \n",
      " |  Built-in subclasses:\n",
      " |      StgDict\n",
      " |  \n",
      " |  Methods defined here:\n",
      " |  \n",
      " |  __contains__(self, key, /)\n",
      " |      True if the dictionary has the specified key, else False.\n",
      " |  \n",
      " |  __delitem__(self, key, /)\n",
      " |      Delete self[key].\n",
      " |  \n",
      " |  __eq__(self, value, /)\n",
      " |      Return self==value.\n",
      " |  \n",
      " |  __ge__(self, value, /)\n",
      " |      Return self>=value.\n",
      " |  \n",
      " |  __getattribute__(self, name, /)\n",
      " |      Return getattr(self, name).\n",
      " |  \n",
      " |  __getitem__(...)\n",
      " |      x.__getitem__(y) <==> x[y]\n",
      " |  \n",
      " |  __gt__(self, value, /)\n",
      " |      Return self>value.\n",
      " |  \n",
      " |  __init__(self, /, *args, **kwargs)\n",
      " |      Initialize self.  See help(type(self)) for accurate signature.\n",
      " |  \n",
      " |  __ior__(self, value, /)\n",
      " |      Return self|=value.\n",
      " |  \n",
      " |  __iter__(self, /)\n",
      " |      Implement iter(self).\n",
      " |  \n",
      " |  __le__(self, value, /)\n",
      " |      Return self<=value.\n",
      " |  \n",
      " |  __len__(self, /)\n",
      " |      Return len(self).\n",
      " |  \n",
      " |  __lt__(self, value, /)\n",
      " |      Return self<value.\n",
      " |  \n",
      " |  __ne__(self, value, /)\n",
      " |      Return self!=value.\n",
      " |  \n",
      " |  __or__(self, value, /)\n",
      " |      Return self|value.\n",
      " |  \n",
      " |  __repr__(self, /)\n",
      " |      Return repr(self).\n",
      " |  \n",
      " |  __reversed__(self, /)\n",
      " |      Return a reverse iterator over the dict keys.\n",
      " |  \n",
      " |  __ror__(self, value, /)\n",
      " |      Return value|self.\n",
      " |  \n",
      " |  __setitem__(self, key, value, /)\n",
      " |      Set self[key] to value.\n",
      " |  \n",
      " |  __sizeof__(...)\n",
      " |      D.__sizeof__() -> size of D in memory, in bytes\n",
      " |  \n",
      " |  clear(...)\n",
      " |      D.clear() -> None.  Remove all items from D.\n",
      " |  \n",
      " |  copy(...)\n",
      " |      D.copy() -> a shallow copy of D\n",
      " |  \n",
      " |  get(self, key, default=None, /)\n",
      " |      Return the value for key if key is in the dictionary, else default.\n",
      " |  \n",
      " |  items(...)\n",
      " |      D.items() -> a set-like object providing a view on D's items\n",
      " |  \n",
      " |  keys(...)\n",
      " |      D.keys() -> a set-like object providing a view on D's keys\n",
      " |  \n",
      " |  pop(...)\n",
      " |      D.pop(k[,d]) -> v, remove specified key and return the corresponding value.\n",
      " |      \n",
      " |      If the key is not found, return the default if given; otherwise,\n",
      " |      raise a KeyError.\n",
      " |  \n",
      " |  popitem(self, /)\n",
      " |      Remove and return a (key, value) pair as a 2-tuple.\n",
      " |      \n",
      " |      Pairs are returned in LIFO (last-in, first-out) order.\n",
      " |      Raises KeyError if the dict is empty.\n",
      " |  \n",
      " |  setdefault(self, key, default=None, /)\n",
      " |      Insert key with a value of default if key is not in the dictionary.\n",
      " |      \n",
      " |      Return the value for key if key is in the dictionary, else default.\n",
      " |  \n",
      " |  update(...)\n",
      " |      D.update([E, ]**F) -> None.  Update D from dict/iterable E and F.\n",
      " |      If E is present and has a .keys() method, then does:  for k in E: D[k] = E[k]\n",
      " |      If E is present and lacks a .keys() method, then does:  for k, v in E: D[k] = v\n",
      " |      In either case, this is followed by: for k in F:  D[k] = F[k]\n",
      " |  \n",
      " |  values(...)\n",
      " |      D.values() -> an object providing a view on D's values\n",
      " |  \n",
      " |  ----------------------------------------------------------------------\n",
      " |  Class methods defined here:\n",
      " |  \n",
      " |  __class_getitem__(...) from builtins.type\n",
      " |      See PEP 585\n",
      " |  \n",
      " |  fromkeys(iterable, value=None, /) from builtins.type\n",
      " |      Create a new dictionary with keys from iterable and values set to value.\n",
      " |  \n",
      " |  ----------------------------------------------------------------------\n",
      " |  Static methods defined here:\n",
      " |  \n",
      " |  __new__(*args, **kwargs) from builtins.type\n",
      " |      Create and return a new object.  See help(type) for accurate signature.\n",
      " |  \n",
      " |  ----------------------------------------------------------------------\n",
      " |  Data and other attributes defined here:\n",
      " |  \n",
      " |  __hash__ = None\n",
      "\n"
     ]
    }
   ],
   "source": [
    "help(city_population)"
   ]
  },
  {
   "cell_type": "code",
   "execution_count": null,
   "id": "e95826c0-a152-4f24-9a34-ead55089e44c",
   "metadata": {},
   "outputs": [],
   "source": []
  }
 ],
 "metadata": {
  "kernelspec": {
   "display_name": "Python 3 (ipykernel)",
   "language": "python",
   "name": "python3"
  },
  "language_info": {
   "codemirror_mode": {
    "name": "ipython",
    "version": 3
   },
   "file_extension": ".py",
   "mimetype": "text/x-python",
   "name": "python",
   "nbconvert_exporter": "python",
   "pygments_lexer": "ipython3",
   "version": "3.11.7"
  }
 },
 "nbformat": 4,
 "nbformat_minor": 5
}
