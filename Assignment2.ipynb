{
 "cells": [
  {
   "cell_type": "code",
   "execution_count": 5,
   "id": "c32cccda-0e74-473f-b984-01c28dacec6f",
   "metadata": {},
   "outputs": [],
   "source": [
    "import numpy as np"
   ]
  },
  {
   "cell_type": "code",
   "execution_count": 5,
   "id": "028da418-b065-43e0-876c-045f71955b20",
   "metadata": {},
   "outputs": [
    {
     "name": "stdout",
     "output_type": "stream",
     "text": [
      "[ 1  2  3  4  5  6  7  8  9 10]\n"
     ]
    }
   ],
   "source": [
    "#Create a 1D array of integers from 1 to 10\n",
    "a = np.array([1,2,3,4,5,6,7,8,9,10]) # or we can use a = np.arange(1,11)\n",
    "print(a)"
   ]
  },
  {
   "cell_type": "code",
   "execution_count": 7,
   "id": "cd673744-dfdc-490a-a148-deba978aee2d",
   "metadata": {},
   "outputs": [
    {
     "name": "stdout",
     "output_type": "stream",
     "text": [
      "[[0.86493072 0.98249441 0.7211095  0.88062635]\n",
      " [0.96949916 0.32212084 0.26530121 0.84244724]\n",
      " [0.29610831 0.28097791 0.49882    0.15746066]]\n"
     ]
    }
   ],
   "source": [
    "#Create a 2D array with random float values of shapes(3,4)\n",
    "b = np.random.rand(3,4)\n",
    "print(b)"
   ]
  },
  {
   "cell_type": "code",
   "execution_count": 11,
   "id": "1a5caf9c-481c-49e6-9b7e-e4c35905100c",
   "metadata": {},
   "outputs": [
    {
     "name": "stdout",
     "output_type": "stream",
     "text": [
      "[[[0. 0. 0. 0.]\n",
      "  [0. 0. 0. 0.]\n",
      "  [0. 0. 0. 0.]]\n",
      "\n",
      " [[0. 0. 0. 0.]\n",
      "  [0. 0. 0. 0.]\n",
      "  [0. 0. 0. 0.]]]\n"
     ]
    }
   ],
   "source": [
    "#Create a 3D array of zeros with shape(2,3,4)\n",
    "c = np.zeros((2,3,4))\n",
    "print(c)"
   ]
  },
  {
   "cell_type": "code",
   "execution_count": 13,
   "id": "8920beca-0a49-411c-a7f3-a4a02d216611",
   "metadata": {},
   "outputs": [
    {
     "name": "stdout",
     "output_type": "stream",
     "text": [
      "Addition [ 7  9 11 13 15]\n",
      "Substraction [-5 -5 -5 -5 -5]\n",
      "Multiplication [ 6 14 24 36 50]\n",
      "Division [0.16666667 0.28571429 0.375      0.44444444 0.5       ]\n"
     ]
    }
   ],
   "source": [
    "#Given two 1D arrays, performf element-wise addition, subtraction,multiplication and division\n",
    "a = np.array([1,2,3,4,5])\n",
    "b = np.array([6,7,8,9,10])\n",
    "addition = np.add(a,b)\n",
    "sub = np.subtract(a,b)\n",
    "multiply = np.multiply(a,b)\n",
    "division = np.divide(a,b)\n",
    "print (\"Addition\", addition)\n",
    "print(\"Substraction\", sub)\n",
    "print(\"Multiplication\", multiply)\n",
    "print(\"Division\", division)"
   ]
  },
  {
   "cell_type": "code",
   "execution_count": 19,
   "id": "69404eca-887a-4646-a187-2eb5cc6ae67a",
   "metadata": {},
   "outputs": [
    {
     "name": "stdout",
     "output_type": "stream",
     "text": [
      "The original array is  [ 1  2  3  4  5  6  7  8  9 10]\n",
      "The mean of the array is  5.5\n",
      "The median of the array is  5.5\n",
      "The Standard Devviation is  2.8722813232690143\n"
     ]
    }
   ],
   "source": [
    "#Calculate the mean, median and standard deviation of a given 1D array\n",
    "a = np.arange(1,11)\n",
    "mean = np.mean(a)\n",
    "median = np.median(a)\n",
    "sd = np.std(a)\n",
    "print(\"The original array is \",a)\n",
    "print(\"The mean of the array is \",mean)\n",
    "print(\"The median of the array is \",median)\n",
    "print(\"The Standard Devviation is \",sd)"
   ]
  },
  {
   "cell_type": "code",
   "execution_count": 27,
   "id": "2fe987df-3778-4ef4-9d3b-ef6eab94fc0a",
   "metadata": {},
   "outputs": [
    {
     "name": "stdout",
     "output_type": "stream",
     "text": [
      "The reshaped array is: \n",
      " [[ 1  2  3  4]\n",
      " [ 5  6  7  8]\n",
      " [ 9 10 11 12]]\n"
     ]
    }
   ],
   "source": [
    "#Reshape a 1D array into a 2D array of shape(3,4)\n",
    "a = np.arange(1,13)\n",
    "reshape = a.reshape((3,4))\n",
    "print(\"The reshaped array is: \\n\",reshape)\n"
   ]
  },
  {
   "cell_type": "code",
   "execution_count": 29,
   "id": "fd68dd04-9104-4c7b-a9a2-492374f1bd3e",
   "metadata": {},
   "outputs": [
    {
     "name": "stdout",
     "output_type": "stream",
     "text": [
      "[1 2 3]\n"
     ]
    }
   ],
   "source": [
    "#Extract the first row and last column of a 2D array\n",
    "a = np.array([[1,2,3],[4,5,6],[7,8,9]])\n",
    "first_row = a[0,:]\n",
    "print(first_row)"
   ]
  },
  {
   "cell_type": "code",
   "execution_count": 33,
   "id": "abd4d584-e4ee-40cd-8831-9e236f26603c",
   "metadata": {},
   "outputs": [
    {
     "name": "stdout",
     "output_type": "stream",
     "text": [
      "[3 6 9]\n"
     ]
    }
   ],
   "source": [
    "last_column= a[:,-1]\n",
    "print(last_column)"
   ]
  },
  {
   "cell_type": "code",
   "execution_count": 35,
   "id": "1ebe7b65-114d-4e16-b230-c8a6b57fff1e",
   "metadata": {},
   "outputs": [
    {
     "name": "stdout",
     "output_type": "stream",
     "text": [
      "[[7 8 9]\n",
      " [4 5 6]\n",
      " [1 2 3]]\n"
     ]
    }
   ],
   "source": [
    "#Reverse the order of element in 1D array.\n",
    "reversed = a[::-1]\n",
    "print(reversed)"
   ]
  },
  {
   "cell_type": "code",
   "execution_count": 37,
   "id": "47b0a1d3-2766-42be-af45-bc0c1f116cd3",
   "metadata": {},
   "outputs": [
    {
     "name": "stdout",
     "output_type": "stream",
     "text": [
      "The elements are :  [6 7 8 9]\n"
     ]
    }
   ],
   "source": [
    "#Select elements form a 2D array that satisfy a specific condition(e.g., values \n",
    "#greater than a certain threshold)\n",
    "t =5\n",
    "b = a[a>t]\n",
    "print(\"The elements are : \",b)"
   ]
  },
  {
   "cell_type": "code",
   "execution_count": 39,
   "id": "01b4c216-f13f-46e1-aed8-6ae9f19eac48",
   "metadata": {},
   "outputs": [
    {
     "name": "stdout",
     "output_type": "stream",
     "text": [
      "The original array is  [[1 2 3]\n",
      " [4 5 6]]\n",
      "The added value array is  [[ 6  7  8]\n",
      " [ 9 10 11]]\n"
     ]
    }
   ],
   "source": [
    "#Add a scalar value to each element of a 2D array\n",
    "a = np.array([[1,2,3],[4,5,6]])\n",
    "print(\"The original array is \",a)\n",
    "added_array = a+5\n",
    "print(\"The added value array is \",added_array)"
   ]
  },
  {
   "cell_type": "code",
   "execution_count": 41,
   "id": "04c140c7-9ab7-4f78-b4c8-f51ae25fb307",
   "metadata": {},
   "outputs": [
    {
     "name": "stdout",
     "output_type": "stream",
     "text": [
      "[[ 1  4  9]\n",
      " [ 4 10 18]]\n"
     ]
    }
   ],
   "source": [
    "#Multiply a 1D array with a 2D array, leveraging numpy's broadcasting rules\n",
    "b = np.array([1,2,3])\n",
    "multiply = np.multiply(a,b)\n",
    "print(multiply)"
   ]
  },
  {
   "cell_type": "code",
   "execution_count": 7,
   "id": "763efa53-2fe7-4700-9ff5-160fa3465dc3",
   "metadata": {},
   "outputs": [
    {
     "name": "stdout",
     "output_type": "stream",
     "text": [
      "Dot Product: 32\n"
     ]
    }
   ],
   "source": [
    "#Calculate the dot product of two 1-dimensional arrays.\n",
    "array1 = np.array([1, 2, 3]) \n",
    "array2 = np.array([4, 5, 6])\n",
    "# Calculate the dot product\n",
    "dot_product = np.dot(array1, array2)\n",
    "print(\"Dot Product:\", dot_product)"
   ]
  },
  {
   "cell_type": "code",
   "execution_count": 11,
   "id": "b7e76dc7-4d59-4b53-ad42-3b9b022aeddf",
   "metadata": {},
   "outputs": [
    {
     "name": "stdout",
     "output_type": "stream",
     "text": [
      "Matrix Multiplication:\n",
      " [[19 22]\n",
      " [43 50]]\n"
     ]
    }
   ],
   "source": [
    "#Compute the matrix multiplication of two 2-dimensional arrays.\n",
    "matrix1 = np.array([[1, 2], [3, 4]])\n",
    "matrix2 = np.array([[5, 6], [7, 8]]) \n",
    "# Compute the matrix multiplication\n",
    "matrix_multiplication = np.dot(matrix1, matrix2) \n",
    "print(\"Matrix Multiplication:\\n\",matrix_multiplication)"
   ]
  },
  {
   "cell_type": "code",
   "execution_count": 13,
   "id": "72d9eb77-ff78-42b8-94d3-a9280b9bde31",
   "metadata": {},
   "outputs": [
    {
     "name": "stdout",
     "output_type": "stream",
     "text": [
      "Inverse Matrix:\n",
      " [[-2.   1. ]\n",
      " [ 1.5 -0.5]]\n",
      "Determinant: -2.0000000000000004\n"
     ]
    }
   ],
   "source": [
    "#Find the inverse and determinant of a square matrix.\n",
    "square_matrix = np.array([[1, 2], [3, 4]]) \n",
    "# Calculate the inverse \n",
    "inverse_matrix = np.linalg.inv(square_matrix) \n",
    "print(\"Inverse Matrix:\\n\", inverse_matrix) \n",
    "# Calculate the determinant \n",
    "determinant = np.linalg.det(square_matrix) \n",
    "print(\"Determinant:\", determinant)"
   ]
  },
  {
   "cell_type": "code",
   "execution_count": null,
   "id": "f4a5d37b-be22-4d92-afca-d92964004159",
   "metadata": {},
   "outputs": [],
   "source": []
  }
 ],
 "metadata": {
  "kernelspec": {
   "display_name": "Python 3 (ipykernel)",
   "language": "python",
   "name": "python3"
  },
  "language_info": {
   "codemirror_mode": {
    "name": "ipython",
    "version": 3
   },
   "file_extension": ".py",
   "mimetype": "text/x-python",
   "name": "python",
   "nbconvert_exporter": "python",
   "pygments_lexer": "ipython3",
   "version": "3.11.7"
  }
 },
 "nbformat": 4,
 "nbformat_minor": 5
}
